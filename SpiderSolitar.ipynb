{
 "cells": [
  {
   "cell_type": "code",
   "execution_count": 12,
   "id": "0580a61e-5aaa-4d13-941c-d5815ba75de5",
   "metadata": {
    "tags": []
   },
   "outputs": [],
   "source": [
    "import pandas as pd\n",
    "from plspider_parser import load\n",
    "# load the seed and the moves from plspider.txt\n",
    "# convert moves to my format (0-based index and num_cards instead of index)\n",
    "data = load('plsmall.txt')"
   ]
  },
  {
   "cell_type": "code",
   "execution_count": 18,
   "id": "afdc1d7b-0f36-4a26-b32e-c196a6a8e885",
   "metadata": {
    "tags": []
   },
   "outputs": [],
   "source": [
    "from showdeal import get_form_pysol_seed\n",
    "# generate deck and tableau from seed\n",
    "data[['Deck','Tableau']] = data['Seed'].apply(get_form_pysol_seed).apply(pd.Series)"
   ]
  },
  {
   "cell_type": "code",
   "execution_count": 15,
   "id": "8bb32932-35b4-4219-90ab-5abfc95a7561",
   "metadata": {
    "tags": []
   },
   "outputs": [],
   "source": [
    "# verify gameplay is valid using my engine\n",
    "from SpiderSolitar import SpiderSolitaire\n",
    "from spider_display import tableau_to_string, deck_to_string\n",
    "deck, tableau, moves = data[['Deck','Tableau','Moves']].values[0]\n",
    "game = SpiderSolitaire(4,13,2,deck,tableau).copy()\n",
    "for move in moves:\n",
    "    # print(tableau_to_string(game), deck_to_string(game), sep='\\n')\n",
    "    # print(move)\n",
    "    if move == 'deal':\n",
    "        game.deal()\n",
    "    elif move[0] == 'clear':\n",
    "        # dont do anything on clear moves, because in my engine, its auto clearing\n",
    "        pass\n",
    "    else:\n",
    "        source_pile, dest_pile, num_cards = move\n",
    "        game.move_card(source_pile, dest_pile, num_cards)\n",
    "    g = game.copy()\n",
    "    states.append((g.deck,g.tableau))\n"
   ]
  },
  {
   "cell_type": "code",
   "execution_count": 28,
   "id": "a9501851-d816-49e9-9cf0-9637c3fa7102",
   "metadata": {
    "tags": []
   },
   "outputs": [
    {
     "data": {
      "application/vnd.jupyter.widget-view+json": {
       "model_id": "0da605d3126d4aa89538c06d75380cb1",
       "version_major": 2,
       "version_minor": 0
      },
      "text/plain": [
       "VBox(children=(HBox(children=(Play(value=0, description='Press play', interval=500, max=397), IntSlider(value=…"
      ]
     },
     "metadata": {},
     "output_type": "display_data"
    }
   ],
   "source": [
    "\n",
    "#%conda install -c conda-forge ipywidgets\n",
    "from IPython.display import display\n",
    "import ipywidgets as widgets\n",
    "import time\n",
    "\n",
    "deck, tableau, moves = data[['Deck','Tableau','Moves']].values[0]\n",
    "game = SpiderSolitaire(4,13,2,deck,tableau).copy()\n",
    "\n",
    "# store all games states\n",
    "states = []\n",
    "# add inital state\n",
    "g = game.copy()\n",
    "states.append((g.deck,g.tableau))\n",
    "# add sequencially all other sates\n",
    "for move in moves:\n",
    "    if move == 'deal':\n",
    "        game.deal()\n",
    "    elif move[0] == 'clear':\n",
    "        # dont do anything on clear moves, because in my engine, its auto clearing\n",
    "        pass\n",
    "    else:\n",
    "        source_pile, dest_pile, num_cards = move\n",
    "        game.move_card(source_pile, dest_pile, num_cards)\n",
    "    g = game.copy()\n",
    "    states.append((g.deck,g.tableau))\n",
    "\n",
    "# generate the interactive GUI\n",
    "def display(move_number):\n",
    "    if move_number < len(states):\n",
    "        deck, tableau = states[move_number]\n",
    "        game = SpiderSolitaire(4,13,2,deck,tableau)\n",
    "        print(tableau_to_string(game), deck_to_string(game), sep='\\n')\n",
    "        \n",
    "play = widgets.Play(\n",
    "    value=0,\n",
    "    min=0,\n",
    "    max=len(states),\n",
    "    step=1,\n",
    "    interval=500,\n",
    "    description=\"Press play\",\n",
    "    disabled=False\n",
    ")\n",
    "out = widgets.interactive_output(display, {'move_number': play})\n",
    "\n",
    "slider = widgets.IntSlider(max=len(states))\n",
    "widgets.jslink((play, 'value'), (slider, 'value'))\n",
    "controls = widgets.HBox([play, slider])\n",
    "widgets.VBox([controls, out])"
   ]
  }
 ],
 "metadata": {
  "kernelspec": {
   "display_name": "default:Python",
   "language": "python",
   "name": "conda-env-default-py"
  },
  "language_info": {
   "codemirror_mode": {
    "name": "ipython",
    "version": 3
   },
   "file_extension": ".py",
   "mimetype": "text/x-python",
   "name": "python",
   "nbconvert_exporter": "python",
   "pygments_lexer": "ipython3",
   "version": "3.9.16"
  },
  "toc-showmarkdowntxt": false
 },
 "nbformat": 4,
 "nbformat_minor": 5
}
