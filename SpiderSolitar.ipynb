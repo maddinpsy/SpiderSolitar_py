{
 "cells": [
  {
   "cell_type": "code",
   "execution_count": 2,
   "id": "0580a61e-5aaa-4d13-941c-d5815ba75de5",
   "metadata": {
    "tags": []
   },
   "outputs": [],
   "source": [
    "import pandas as pd\n",
    "from plspider_parser import load\n",
    "# load the seed and the moves from plspider.txt\n",
    "# convert moves to my format (0-based index and num_cards instead of index)\n",
    "data = load('plsmall.txt')"
   ]
  },
  {
   "cell_type": "code",
   "execution_count": 3,
   "id": "afdc1d7b-0f36-4a26-b32e-c196a6a8e885",
   "metadata": {
    "tags": []
   },
   "outputs": [],
   "source": [
    "from showdeal import get_form_pysol_seed\n",
    "# generate deck and tableau from seed\n",
    "data[['Deck','Tableau']] = data['Seed'].apply(get_form_pysol_seed).apply(pd.Series)"
   ]
  },
  {
   "cell_type": "code",
   "execution_count": 4,
   "id": "8bb32932-35b4-4219-90ab-5abfc95a7561",
   "metadata": {
    "tags": []
   },
   "outputs": [
    {
     "name": "stdout",
     "output_type": "stream",
     "text": [
      "5d Qd 7h Js Kd 7s Ks Qd Jc 2h \n",
      "4s 2h 3h Tc Kc 3c 4h Ts 7s 9d \n",
      "6d 9s 4d 4s 3d 2c 8s Jc 6c Ah \n",
      "8h Kc 9s Qc 5h Ks Kh Jd 4c 5h \n",
      "Qc Qh 4c Ts 5s 2s 6c 5d 4d Ad \n",
      "6h       2d       8d       6s \n",
      "\n",
      "Ad Qs As 7h 9c 5c 5c Js Th 8h\n",
      "2s 5s 6d Ac 9c 2d 3h 3s 8d 8c\n",
      "Jh 6h Td 8c 7c 3s 2c Ac 9d 9h\n",
      "As Kh Tc Ah 7d 4h Jh Th 9h Kd\n",
      "6s Td Qh 7c 8s 3c Jd 7d Qs 3d\n",
      "\n"
     ]
    }
   ],
   "source": [
    "# verify gameplay is valid using my engine\n",
    "from SpiderSolitar import SpiderSolitaire\n",
    "from spider_display import tableau_to_string, deck_to_string\n",
    "deck, tableau, moves = data[['Deck','Tableau','Moves']].values[0]\n",
    "game = SpiderSolitaire(4,13,2,deck,tableau)\n",
    "print(tableau_to_string(game), deck_to_string(game), sep='\\n')"
   ]
  },
  {
   "cell_type": "code",
   "execution_count": 1,
   "id": "f92a5cb8-b809-4419-8e61-8bdf1641e037",
   "metadata": {
    "tags": []
   },
   "outputs": [
    {
     "data": {
      "application/vnd.jupyter.widget-view+json": {
       "model_id": "693f01f837eb4f19ae7fff8b4a457e1c",
       "version_major": 2,
       "version_minor": 0
      },
      "text/plain": [
       "HBox(children=(Play(value=50, description='Press play', interval=500), IntSlider(value=0)))"
      ]
     },
     "metadata": {},
     "output_type": "display_data"
    }
   ],
   "source": [
    "\n",
    "#%conda install -c conda-forge ipywidgets\n",
    "from IPython.display import display\n",
    "import ipywidgets as widgets\n",
    "import time\n",
    "\n",
    "play = widgets.Play(\n",
    "    value=50,\n",
    "    min=0,\n",
    "    max=100,\n",
    "    step=1,\n",
    "    interval=500,\n",
    "    description=\"Press play\",\n",
    "    disabled=False\n",
    ")\n",
    "slider = widgets.IntSlider()\n",
    "widgets.jslink((play, 'value'), (slider, 'value'))\n",
    "widgets.HBox([play, slider])"
   ]
  },
  {
   "cell_type": "code",
   "execution_count": 11,
   "id": "196b4e7c-2161-454d-95ee-961c72af3d3b",
   "metadata": {
    "tags": []
   },
   "outputs": [
    {
     "data": {
      "application/vnd.jupyter.widget-view+json": {
       "model_id": "7bba571e42514eb989fc9f6880ea973b",
       "version_major": 2,
       "version_minor": 0
      },
      "text/plain": [
       "Output(layout=Layout(border='1px solid black', padding='10px', width='270px'))"
      ]
     },
     "metadata": {},
     "output_type": "display_data"
    }
   ],
   "source": [
    "out = widgets.Output(layout={'border': '1px solid black', 'width':'270px','padding':'10px'})\n",
    "with out:\n",
    "    for i in range(10):\n",
    "        print(i, 'Hello world!')\n",
    "out"
   ]
  },
  {
   "cell_type": "code",
   "execution_count": 12,
   "id": "5855d4c7-cc68-4e08-8653-f46046f82638",
   "metadata": {
    "tags": []
   },
   "outputs": [
    {
     "data": {
      "application/vnd.jupyter.widget-view+json": {
       "model_id": "7f9ecb759b154d8e93f8b9fb5dc8937f",
       "version_major": 2,
       "version_minor": 0
      },
      "text/plain": [
       "HBox(children=(VBox(children=(IntSlider(value=0, description='a'), IntSlider(value=0, description='b'), IntSli…"
      ]
     },
     "metadata": {},
     "output_type": "display_data"
    }
   ],
   "source": [
    "a = widgets.IntSlider(description='a')\n",
    "b = widgets.IntSlider(description='b')\n",
    "c = widgets.IntSlider(description='c')\n",
    "def f(a, b, c):\n",
    "    print('{}*{}*{}={}'.format(a, b, c, a*b*c))\n",
    "\n",
    "out = widgets.interactive_output(f, {'a': a, 'b': b, 'c': c})\n",
    "\n",
    "widgets.HBox([widgets.VBox([a, b, c]), out])"
   ]
  },
  {
   "cell_type": "code",
   "execution_count": 7,
   "id": "a9501851-d816-49e9-9cf0-9637c3fa7102",
   "metadata": {
    "tags": []
   },
   "outputs": [
    {
     "name": "stdout",
     "output_type": "stream",
     "text": [
      "(4, 9, 1)\n"
     ]
    },
    {
     "ename": "ValueError",
     "evalue": "Invalid number of cards to move",
     "output_type": "error",
     "traceback": [
      "\u001b[0;31m---------------------------------------------------------------------------\u001b[0m",
      "\u001b[0;31mValueError\u001b[0m                                Traceback (most recent call last)",
      "\u001b[0;32m/tmp/ipykernel_13795/3093342180.py\u001b[0m in \u001b[0;36m<cell line: 15>\u001b[0;34m()\u001b[0m\n\u001b[1;32m     22\u001b[0m     \u001b[0;32melse\u001b[0m\u001b[0;34m:\u001b[0m\u001b[0;34m\u001b[0m\u001b[0;34m\u001b[0m\u001b[0m\n\u001b[1;32m     23\u001b[0m         \u001b[0msource_pile\u001b[0m\u001b[0;34m,\u001b[0m \u001b[0mdest_pile\u001b[0m\u001b[0;34m,\u001b[0m \u001b[0mnum_cards\u001b[0m \u001b[0;34m=\u001b[0m \u001b[0mmove\u001b[0m\u001b[0;34m\u001b[0m\u001b[0;34m\u001b[0m\u001b[0m\n\u001b[0;32m---> 24\u001b[0;31m         \u001b[0mgame\u001b[0m\u001b[0;34m.\u001b[0m\u001b[0mmove_card\u001b[0m\u001b[0;34m(\u001b[0m\u001b[0msource_pile\u001b[0m\u001b[0;34m,\u001b[0m \u001b[0mdest_pile\u001b[0m\u001b[0;34m,\u001b[0m \u001b[0mnum_cards\u001b[0m\u001b[0;34m)\u001b[0m\u001b[0;34m\u001b[0m\u001b[0;34m\u001b[0m\u001b[0m\n\u001b[0m\u001b[1;32m     25\u001b[0m     \u001b[0mg\u001b[0m \u001b[0;34m=\u001b[0m \u001b[0mgame\u001b[0m\u001b[0;34m.\u001b[0m\u001b[0mcopy\u001b[0m\u001b[0;34m(\u001b[0m\u001b[0;34m)\u001b[0m\u001b[0;34m\u001b[0m\u001b[0;34m\u001b[0m\u001b[0m\n\u001b[1;32m     26\u001b[0m     \u001b[0mstates\u001b[0m\u001b[0;34m.\u001b[0m\u001b[0mappend\u001b[0m\u001b[0;34m(\u001b[0m\u001b[0;34m(\u001b[0m\u001b[0mg\u001b[0m\u001b[0;34m.\u001b[0m\u001b[0mdeck\u001b[0m\u001b[0;34m,\u001b[0m\u001b[0mg\u001b[0m\u001b[0;34m.\u001b[0m\u001b[0mtableau\u001b[0m\u001b[0;34m)\u001b[0m\u001b[0;34m)\u001b[0m\u001b[0;34m\u001b[0m\u001b[0;34m\u001b[0m\u001b[0m\n",
      "\u001b[0;32m~/SpiderSolitaire/SpiderSolitar_py/SpiderSolitar.py\u001b[0m in \u001b[0;36mmove_card\u001b[0;34m(self, source_pile, dest_pile, number_of_cards)\u001b[0m\n\u001b[1;32m     92\u001b[0m \u001b[0;34m\u001b[0m\u001b[0m\n\u001b[1;32m     93\u001b[0m         \u001b[0;32mif\u001b[0m \u001b[0mnumber_of_cards\u001b[0m \u001b[0;34m<\u001b[0m \u001b[0;36m1\u001b[0m \u001b[0;32mor\u001b[0m \u001b[0mnumber_of_cards\u001b[0m \u001b[0;34m>\u001b[0m \u001b[0mlen\u001b[0m\u001b[0;34m(\u001b[0m\u001b[0mself\u001b[0m\u001b[0;34m.\u001b[0m\u001b[0mtableau\u001b[0m\u001b[0;34m[\u001b[0m\u001b[0msource_pile\u001b[0m\u001b[0;34m]\u001b[0m\u001b[0;34m)\u001b[0m\u001b[0;34m:\u001b[0m\u001b[0;34m\u001b[0m\u001b[0;34m\u001b[0m\u001b[0m\n\u001b[0;32m---> 94\u001b[0;31m             \u001b[0;32mraise\u001b[0m \u001b[0mValueError\u001b[0m\u001b[0;34m(\u001b[0m\u001b[0;34m\"Invalid number of cards to move\"\u001b[0m\u001b[0;34m)\u001b[0m\u001b[0;34m\u001b[0m\u001b[0;34m\u001b[0m\u001b[0m\n\u001b[0m\u001b[1;32m     95\u001b[0m \u001b[0;34m\u001b[0m\u001b[0m\n\u001b[1;32m     96\u001b[0m         \u001b[0mcards_to_move\u001b[0m \u001b[0;34m=\u001b[0m \u001b[0mself\u001b[0m\u001b[0;34m.\u001b[0m\u001b[0mtableau\u001b[0m\u001b[0;34m[\u001b[0m\u001b[0msource_pile\u001b[0m\u001b[0;34m]\u001b[0m\u001b[0;34m[\u001b[0m\u001b[0;34m-\u001b[0m\u001b[0mnumber_of_cards\u001b[0m\u001b[0;34m:\u001b[0m\u001b[0;34m]\u001b[0m\u001b[0;34m\u001b[0m\u001b[0;34m\u001b[0m\u001b[0m\n",
      "\u001b[0;31mValueError\u001b[0m: Invalid number of cards to move"
     ]
    }
   ],
   "source": [
    "\n",
    "#%conda install -c conda-forge ipywidgets\n",
    "from IPython.display import display\n",
    "import ipywidgets as widgets\n",
    "import time\n",
    "\n",
    "deck, tableau, moves = data[['Deck','Tableau','Moves']].values[0]\n",
    "game = SpiderSolitaire(4,13,2,deck,tableau)\n",
    "\n",
    "# store all games states\n",
    "states = []\n",
    "# add inital state\n",
    "g = game.copy()\n",
    "states.append((g.deck,g.tableau))\n",
    "# add sequencially all other sates\n",
    "for move in moves:\n",
    "    print(move)\n",
    "    if move == 'deal':\n",
    "        game.deal()\n",
    "    elif move[0] == 'clear':\n",
    "        # dont do anything on clear moves, because in my engine, its auto clearing\n",
    "        pass\n",
    "    else:\n",
    "        source_pile, dest_pile, num_cards = move\n",
    "        game.move_card(source_pile, dest_pile, num_cards)\n",
    "    g = game.copy()\n",
    "    states.append((g.deck,g.tableau))\n",
    "\n",
    "# generate the interactive GUI\n",
    "def display(move_number):\n",
    "    deck, tableau = states[move_number]\n",
    "    game = SpiderSolitaire(4,13,2,deck,tableau)\n",
    "    print(tableau_to_string(game), deck_to_string(game), sep='\\n')\n",
    "        \n",
    "play = widgets.Play(\n",
    "    value=50,\n",
    "    min=0,\n",
    "    max=100,\n",
    "    step=1,\n",
    "    interval=500,\n",
    "    description=\"Press play\",\n",
    "    disabled=False\n",
    ")\n",
    "out = widgets.interactive_output(display, {'move_number': play})\n",
    "\n",
    "slider = widgets.IntSlider()\n",
    "widgets.jslink((play, 'value'), (slider, 'value'))\n",
    "controls = widgets.HBox([play, slider])\n",
    "widgets.VBox([out, controls])"
   ]
  }
 ],
 "metadata": {
  "kernelspec": {
   "display_name": "default:Python",
   "language": "python",
   "name": "conda-env-default-py"
  },
  "language_info": {
   "codemirror_mode": {
    "name": "ipython",
    "version": 3
   },
   "file_extension": ".py",
   "mimetype": "text/x-python",
   "name": "python",
   "nbconvert_exporter": "python",
   "pygments_lexer": "ipython3",
   "version": "3.9.16"
  },
  "toc-showmarkdowntxt": false
 },
 "nbformat": 4,
 "nbformat_minor": 5
}
